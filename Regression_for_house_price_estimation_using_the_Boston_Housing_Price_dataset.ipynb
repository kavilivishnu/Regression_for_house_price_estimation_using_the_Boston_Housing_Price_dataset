{
  "cells": [
    {
      "cell_type": "markdown",
      "metadata": {
        "id": "S3hXMDuZqG1w"
      },
      "source": [
        "**Sri Vishnu Vardhan Kavili**\n",
        "\n",
        "**https://colab.research.google.com/drive/1zKBRHCcWF0J8fDSOHkvI76Y6W5v8vk2E?usp=sharing**\n",
        "\n",
        "*Expand all notebook bocks/sections and ensure code has properly executed, save as pdf(above left menu) when completed to submit to Canvas.*"
      ]
    },
    {
      "cell_type": "markdown",
      "metadata": {
        "id": "fl1SvjrIxh6m"
      },
      "source": [
        "## **Regression for house price estimation using the Boston Housing Price dataset**"
      ]
    },
    {
      "cell_type": "markdown",
      "metadata": {
        "id": "xH8hygQBxh6m"
      },
      "source": [
        "#### **Loading the Boston housing dataset**"
      ]
    },
    {
      "cell_type": "code",
      "execution_count": null,
      "metadata": {
        "id": "Bw_cuN9_xh6m"
      },
      "outputs": [],
      "source": [
        "from tensorflow.keras.datasets import boston_housing\n",
        "(train_data, train_targets), (test_data, test_targets) = boston_housing.load_data()"
      ]
    },
    {
      "cell_type": "code",
      "execution_count": null,
      "metadata": {
        "colab": {
          "base_uri": "https://localhost:8080/"
        },
        "id": "qcQzcVTTxh6m",
        "outputId": "0554290f-c67a-49b6-cb23-c3bd02600df7"
      },
      "outputs": [
        {
          "output_type": "execute_result",
          "data": {
            "text/plain": [
              "(404, 13)"
            ]
          },
          "metadata": {},
          "execution_count": 384
        }
      ],
      "source": [
        "train_data.shape"
      ]
    },
    {
      "cell_type": "code",
      "execution_count": null,
      "metadata": {
        "colab": {
          "base_uri": "https://localhost:8080/"
        },
        "id": "mqRzjeWdxh6m",
        "outputId": "742278ef-a0c6-42aa-f5d7-69594e215399"
      },
      "outputs": [
        {
          "output_type": "execute_result",
          "data": {
            "text/plain": [
              "(102, 13)"
            ]
          },
          "metadata": {},
          "execution_count": 385
        }
      ],
      "source": [
        "test_data.shape"
      ]
    },
    {
      "cell_type": "code",
      "execution_count": null,
      "metadata": {
        "colab": {
          "base_uri": "https://localhost:8080/"
        },
        "id": "2DKZJfIFxh6m",
        "outputId": "4f9a27d8-a92f-4a5d-8168-f4c75b7e84ad"
      },
      "outputs": [
        {
          "output_type": "execute_result",
          "data": {
            "text/plain": [
              "array([15.2, 42.3, 50. , 21.1, 17.7, 18.5, 11.3, 15.6, 15.6, 14.4, 12.1,\n",
              "       17.9, 23.1, 19.9, 15.7,  8.8, 50. , 22.5, 24.1, 27.5, 10.9, 30.8,\n",
              "       32.9, 24. , 18.5, 13.3, 22.9, 34.7, 16.6, 17.5, 22.3, 16.1, 14.9,\n",
              "       23.1, 34.9, 25. , 13.9, 13.1, 20.4, 20. , 15.2, 24.7, 22.2, 16.7,\n",
              "       12.7, 15.6, 18.4, 21. , 30.1, 15.1, 18.7,  9.6, 31.5, 24.8, 19.1,\n",
              "       22. , 14.5, 11. , 32. , 29.4, 20.3, 24.4, 14.6, 19.5, 14.1, 14.3,\n",
              "       15.6, 10.5,  6.3, 19.3, 19.3, 13.4, 36.4, 17.8, 13.5, 16.5,  8.3,\n",
              "       14.3, 16. , 13.4, 28.6, 43.5, 20.2, 22. , 23. , 20.7, 12.5, 48.5,\n",
              "       14.6, 13.4, 23.7, 50. , 21.7, 39.8, 38.7, 22.2, 34.9, 22.5, 31.1,\n",
              "       28.7, 46. , 41.7, 21. , 26.6, 15. , 24.4, 13.3, 21.2, 11.7, 21.7,\n",
              "       19.4, 50. , 22.8, 19.7, 24.7, 36.2, 14.2, 18.9, 18.3, 20.6, 24.6,\n",
              "       18.2,  8.7, 44. , 10.4, 13.2, 21.2, 37. , 30.7, 22.9, 20. , 19.3,\n",
              "       31.7, 32. , 23.1, 18.8, 10.9, 50. , 19.6,  5. , 14.4, 19.8, 13.8,\n",
              "       19.6, 23.9, 24.5, 25. , 19.9, 17.2, 24.6, 13.5, 26.6, 21.4, 11.9,\n",
              "       22.6, 19.6,  8.5, 23.7, 23.1, 22.4, 20.5, 23.6, 18.4, 35.2, 23.1,\n",
              "       27.9, 20.6, 23.7, 28. , 13.6, 27.1, 23.6, 20.6, 18.2, 21.7, 17.1,\n",
              "        8.4, 25.3, 13.8, 22.2, 18.4, 20.7, 31.6, 30.5, 20.3,  8.8, 19.2,\n",
              "       19.4, 23.1, 23. , 14.8, 48.8, 22.6, 33.4, 21.1, 13.6, 32.2, 13.1,\n",
              "       23.4, 18.9, 23.9, 11.8, 23.3, 22.8, 19.6, 16.7, 13.4, 22.2, 20.4,\n",
              "       21.8, 26.4, 14.9, 24.1, 23.8, 12.3, 29.1, 21. , 19.5, 23.3, 23.8,\n",
              "       17.8, 11.5, 21.7, 19.9, 25. , 33.4, 28.5, 21.4, 24.3, 27.5, 33.1,\n",
              "       16.2, 23.3, 48.3, 22.9, 22.8, 13.1, 12.7, 22.6, 15. , 15.3, 10.5,\n",
              "       24. , 18.5, 21.7, 19.5, 33.2, 23.2,  5. , 19.1, 12.7, 22.3, 10.2,\n",
              "       13.9, 16.3, 17. , 20.1, 29.9, 17.2, 37.3, 45.4, 17.8, 23.2, 29. ,\n",
              "       22. , 18. , 17.4, 34.6, 20.1, 25. , 15.6, 24.8, 28.2, 21.2, 21.4,\n",
              "       23.8, 31. , 26.2, 17.4, 37.9, 17.5, 20. ,  8.3, 23.9,  8.4, 13.8,\n",
              "        7.2, 11.7, 17.1, 21.6, 50. , 16.1, 20.4, 20.6, 21.4, 20.6, 36.5,\n",
              "        8.5, 24.8, 10.8, 21.9, 17.3, 18.9, 36.2, 14.9, 18.2, 33.3, 21.8,\n",
              "       19.7, 31.6, 24.8, 19.4, 22.8,  7.5, 44.8, 16.8, 18.7, 50. , 50. ,\n",
              "       19.5, 20.1, 50. , 17.2, 20.8, 19.3, 41.3, 20.4, 20.5, 13.8, 16.5,\n",
              "       23.9, 20.6, 31.5, 23.3, 16.8, 14. , 33.8, 36.1, 12.8, 18.3, 18.7,\n",
              "       19.1, 29. , 30.1, 50. , 50. , 22. , 11.9, 37.6, 50. , 22.7, 20.8,\n",
              "       23.5, 27.9, 50. , 19.3, 23.9, 22.6, 15.2, 21.7, 19.2, 43.8, 20.3,\n",
              "       33.2, 19.9, 22.5, 32.7, 22. , 17.1, 19. , 15. , 16.1, 25.1, 23.7,\n",
              "       28.7, 37.2, 22.6, 16.4, 25. , 29.8, 22.1, 17.4, 18.1, 30.3, 17.5,\n",
              "       24.7, 12.6, 26.5, 28.7, 13.3, 10.4, 24.4, 23. , 20. , 17.8,  7. ,\n",
              "       11.8, 24.4, 13.8, 19.4, 25.2, 19.4, 19.4, 29.1])"
            ]
          },
          "metadata": {},
          "execution_count": 386
        }
      ],
      "source": [
        "train_targets"
      ]
    },
    {
      "cell_type": "markdown",
      "metadata": {
        "id": "mRV06OTNxh6m"
      },
      "source": [
        "### **Preparing the data**"
      ]
    },
    {
      "cell_type": "markdown",
      "metadata": {
        "id": "NUDEXKrnxh6m"
      },
      "source": [
        "#### **Normalizing the data**"
      ]
    },
    {
      "cell_type": "code",
      "execution_count": null,
      "metadata": {
        "id": "xTNRwpHZxh6m"
      },
      "outputs": [],
      "source": [
        "# Normalization is a common preprocessing step performed on input data to bring all the features onto a similar scale.\n",
        "# It is just like centering them to a origin.\n",
        "# Normalizing the data can also contribute to a smoother and more interpretable plotting process, helping in a better understanding\n",
        "# of the relationships and patterns present in the data.\n",
        "\n",
        "mean = train_data.mean(axis=0)\n",
        "train_data -= mean\n",
        "std = train_data.std(axis=0)\n",
        "train_data /= std\n",
        "test_data -= mean\n",
        "test_data /= std"
      ]
    },
    {
      "cell_type": "markdown",
      "metadata": {
        "id": "Ak5QuOrRxh6m"
      },
      "source": [
        "### **Building our model**"
      ]
    },
    {
      "cell_type": "markdown",
      "metadata": {
        "id": "5_LQDquRxh6m"
      },
      "source": [
        "#### Model definition"
      ]
    },
    {
      "cell_type": "code",
      "execution_count": null,
      "metadata": {
        "id": "EH4VsMNyxh6m"
      },
      "outputs": [],
      "source": [
        "def build_model3():\n",
        "    model3 = keras.Sequential([\n",
        "        layers.Dense(64, activation=\"relu\"),\n",
        "        layers.Dense(64, activation=\"relu\"),\n",
        "        layers.Dense(1)\n",
        "    ])\n",
        "    model3.compile(optimizer=\"rmsprop\", loss=\"mse\", metrics=[\"mae\"])\n",
        "    return model3"
      ]
    },
    {
      "cell_type": "markdown",
      "metadata": {
        "id": "8_Y_2x1bxh6m"
      },
      "source": [
        "### **Validating our approach using K-fold validation**"
      ]
    },
    {
      "cell_type": "code",
      "execution_count": null,
      "metadata": {
        "colab": {
          "base_uri": "https://localhost:8080/"
        },
        "id": "lP3j1z76xh6m",
        "outputId": "0048c434-25c0-418b-e687-0755b1cfc4ab"
      },
      "outputs": [
        {
          "output_type": "stream",
          "name": "stdout",
          "text": [
            "Processing fold #0\n",
            "Processing fold #1\n",
            "Processing fold #2\n",
            "Processing fold #3\n"
          ]
        }
      ],
      "source": [
        "k = 4\n",
        "num_val_samples = len(train_data) // k\n",
        "num_epochs = 100\n",
        "all_scores = []\n",
        "for i in range(k):\n",
        "    print(f\"Processing fold #{i}\")\n",
        "    val_data = train_data[i * num_val_samples: (i + 1) * num_val_samples]\n",
        "    val_targets = train_targets[i * num_val_samples: (i + 1) * num_val_samples]\n",
        "    partial_train_data = np.concatenate(\n",
        "        [train_data[:i * num_val_samples],\n",
        "         train_data[(i + 1) * num_val_samples:]],\n",
        "        axis=0)\n",
        "    partial_train_targets = np.concatenate(\n",
        "        [train_targets[:i * num_val_samples],\n",
        "         train_targets[(i + 1) * num_val_samples:]],\n",
        "        axis=0)\n",
        "    model3 = build_model3()\n",
        "    model3.fit(partial_train_data, partial_train_targets,\n",
        "              epochs=num_epochs, batch_size=16, verbose=0)\n",
        "    val_mse, val_mae = model3.evaluate(val_data, val_targets, verbose=0)\n",
        "    all_scores.append(val_mae)"
      ]
    },
    {
      "cell_type": "code",
      "execution_count": null,
      "metadata": {
        "colab": {
          "base_uri": "https://localhost:8080/"
        },
        "id": "nj-3RiYaxh6m",
        "outputId": "19367ea5-f34a-4733-b95f-b796f4d8be1c"
      },
      "outputs": [
        {
          "output_type": "execute_result",
          "data": {
            "text/plain": [
              "[1.9525707960128784,\n",
              " 2.6484487056732178,\n",
              " 2.3902878761291504,\n",
              " 2.3203608989715576]"
            ]
          },
          "metadata": {},
          "execution_count": 390
        }
      ],
      "source": [
        "all_scores # PERFORMANCE SCORE of each train and test operations done by each fold"
      ]
    },
    {
      "cell_type": "code",
      "execution_count": null,
      "metadata": {
        "colab": {
          "base_uri": "https://localhost:8080/"
        },
        "id": "TbaipzZZxh6m",
        "outputId": "87c2c1e4-7f03-4181-a041-a46d89ca981a"
      },
      "outputs": [
        {
          "output_type": "execute_result",
          "data": {
            "text/plain": [
              "2.327917069196701"
            ]
          },
          "metadata": {},
          "execution_count": 391
        }
      ],
      "source": [
        "np.mean(all_scores)"
      ]
    },
    {
      "cell_type": "markdown",
      "metadata": {
        "id": "AvBk8lMRxh6m"
      },
      "source": [
        "#### **Saving the validation logs at each fold**"
      ]
    },
    {
      "cell_type": "code",
      "execution_count": null,
      "metadata": {
        "colab": {
          "base_uri": "https://localhost:8080/"
        },
        "id": "-VaF--Ztxh6m",
        "outputId": "7cc82c4b-52bf-4a93-da26-6f6930b3f2cc"
      },
      "outputs": [
        {
          "output_type": "stream",
          "name": "stdout",
          "text": [
            "Processing fold #0\n",
            "Processing fold #1\n",
            "Processing fold #2\n",
            "Processing fold #3\n"
          ]
        }
      ],
      "source": [
        "num_epochs = 500\n",
        "all_mae_histories = []\n",
        "for i in range(k):\n",
        "    print(f\"Processing fold #{i}\")\n",
        "    val_data = train_data[i * num_val_samples: (i + 1) * num_val_samples]\n",
        "    val_targets = train_targets[i * num_val_samples: (i + 1) * num_val_samples]\n",
        "    partial_train_data = np.concatenate(\n",
        "        [train_data[:i * num_val_samples],\n",
        "         train_data[(i + 1) * num_val_samples:]],\n",
        "        axis=0)\n",
        "    partial_train_targets = np.concatenate(\n",
        "        [train_targets[:i * num_val_samples],\n",
        "         train_targets[(i + 1) * num_val_samples:]],\n",
        "        axis=0)\n",
        "    model3 = build_model3()\n",
        "    history = model3.fit(partial_train_data, partial_train_targets,\n",
        "                        validation_data=(val_data, val_targets),\n",
        "                        epochs=num_epochs, batch_size=16, verbose=0)\n",
        "    mae_history = history.history[\"val_mae\"]\n",
        "    all_mae_histories.append(mae_history)"
      ]
    },
    {
      "cell_type": "markdown",
      "metadata": {
        "id": "qxhUlr1bxh6m"
      },
      "source": [
        "#### **Building the history of successive mean K-fold validation scores**"
      ]
    },
    {
      "cell_type": "code",
      "execution_count": null,
      "metadata": {
        "id": "scyLRwsnxh6m"
      },
      "outputs": [],
      "source": [
        "average_mae_history = [\n",
        "    np.mean([x[i] for x in all_mae_histories]) for i in range(num_epochs)]"
      ]
    },
    {
      "cell_type": "markdown",
      "metadata": {
        "id": "tL1rhvLNxh6m"
      },
      "source": [
        "#### **Plotting validation scores**"
      ]
    },
    {
      "cell_type": "code",
      "execution_count": null,
      "metadata": {
        "colab": {
          "base_uri": "https://localhost:8080/",
          "height": 450
        },
        "id": "_AtGOs8kxh6n",
        "outputId": "baba56e8-ff89-4282-9da1-df6040191b50"
      },
      "outputs": [
        {
          "output_type": "display_data",
          "data": {
            "text/plain": [
              "<Figure size 640x480 with 1 Axes>"
            ],
            "image/png": "[encoded data removed]"
          },
          "metadata": {}
        }
      ],
      "source": [
        "plt.plot(range(1, len(average_mae_history) + 1), average_mae_history)\n",
        "plt.xlabel(\"Epochs\")\n",
        "plt.ylabel(\"Validation MAE\")\n",
        "plt.show()"
      ]
    },
    {
      "cell_type": "markdown",
      "metadata": {
        "id": "88VzqTeDxh6n"
      },
      "source": [
        "#### **Plotting validation scores, excluding the first 10 data points**"
      ]
    },
    {
      "cell_type": "code",
      "execution_count": null,
      "metadata": {
        "colab": {
          "base_uri": "https://localhost:8080/",
          "height": 449
        },
        "id": "nJcHbmEjxh6n",
        "outputId": "3d24b913-7d2d-407b-946b-9064794e2301"
      },
      "outputs": [
        {
          "output_type": "display_data",
          "data": {
            "text/plain": [
              "<Figure size 640x480 with 1 Axes>"
            ],
            "image/png": "[encoded data removed]"
          },
          "metadata": {}
        }
      ],
      "source": [
        "truncated_mae_history = average_mae_history[10:]\n",
        "plt.plot(range(1, len(truncated_mae_history) + 1), truncated_mae_history)\n",
        "plt.xlabel(\"Epochs\")\n",
        "plt.ylabel(\"Validation MAE\")\n",
        "plt.show()"
      ]
    },
    {
      "cell_type": "markdown",
      "metadata": {
        "id": "64vzjBATxh6n"
      },
      "source": [
        "### **Training the final model**"
      ]
    },
    {
      "cell_type": "code",
      "execution_count": null,
      "metadata": {
        "colab": {
          "base_uri": "https://localhost:8080/"
        },
        "id": "0VDrjPVZxh6n",
        "outputId": "ac40f4c8-40ad-4620-e05a-258fded75c0c"
      },
      "outputs": [
        {
          "output_type": "stream",
          "name": "stdout",
          "text": [
            "4/4 [==============================] - 0s 4ms/step - loss: 14.3790 - mae: 2.5215\n"
          ]
        }
      ],
      "source": [
        "model3 = build_model3()\n",
        "model3.fit(train_data, train_targets,\n",
        "          epochs=130, batch_size=16, verbose=0)\n",
        "test_mse_score, test_mae_score = model3.evaluate(test_data, test_targets)"
      ]
    },
    {
      "cell_type": "code",
      "source": [
        "history_dict = history.history\n",
        "history_dict.keys()"
      ],
      "metadata": {
        "colab": {
          "base_uri": "https://localhost:8080/"
        },
        "id": "fHllPjn-Z4IT",
        "outputId": "0f7a59e2-9d00-4a40-be96-a48628f7d99a"
      },
      "execution_count": null,
      "outputs": [
        {
          "output_type": "execute_result",
          "data": {
            "text/plain": [
              "dict_keys(['loss', 'mae', 'val_loss', 'val_mae'])"
            ]
          },
          "metadata": {},
          "execution_count": 397
        }
      ]
    },
    {
      "cell_type": "code",
      "source": [
        "loss = history.history[\"loss\"]\n",
        "print(f'Loss - {loss}')\n",
        "mae = history.history[\"mae\"]\n",
        "print(f'Mean Average Error - {mae}')\n",
        "plt.plot(loss, label=\"Training loss\")\n",
        "plt.plot(mae, label=\"Mean Average Error\")\n",
        "plt.title(\"Training and Mean Average Error\")\n",
        "plt.xlabel(\"Mean Average Error\")\n",
        "plt.ylabel(\"Loss\")\n",
        "plt.legend()\n",
        "plt.show()"
      ],
      "metadata": {
        "colab": {
          "base_uri": "https://localhost:8080/",
          "height": 527
        },
        "id": "jZcQQIGYazaZ",
        "outputId": "7a2a09bf-b6d6-4e5f-cd59-7197a75c4dfd"
      },
      "execution_count": null,
      "outputs": [
        {
          "output_type": "stream",
          "name": "stdout",
          "text": [
            "Loss - [525.984375, 434.3176574707031, 323.19415283203125, 212.1588897705078, 126.15132904052734, 76.66558074951172, 52.39634323120117, 38.91028594970703, 31.119388580322266, 26.567087173461914, 23.71906280517578, 21.648054122924805, 19.9605712890625, 18.545061111450195, 17.496337890625, 16.3366756439209, 15.386466979980469, 14.622956275939941, 13.886019706726074, 13.257347106933594, 12.810702323913574, 12.343220710754395, 11.680828094482422, 11.368483543395996, 10.81289291381836, 10.71766185760498, 10.073935508728027, 9.946648597717285, 9.79233455657959, 9.714103698730469, 9.339253425598145, 9.128484725952148, 9.118696212768555, 8.961590766906738, 8.89211368560791, 8.554216384887695, 8.539316177368164, 8.551876068115234, 8.319808959960938, 8.25963306427002, 7.97755765914917, 8.18761157989502, 7.706904888153076, 7.795738697052002, 7.623216152191162, 7.564919471740723, 7.35854434967041, 7.3556718826293945, 7.377177715301514, 7.272449016571045, 7.140110015869141, 7.298131942749023, 6.9231672286987305, 6.889913558959961, 6.844130992889404, 6.850366115570068, 6.7422709465026855, 6.654699325561523, 6.476477146148682, 6.537642478942871, 6.253577709197998, 6.594618320465088, 6.290531635284424, 6.341821670532227, 6.551429271697998, 6.248805999755859, 6.265867710113525, 6.034530162811279, 6.076772689819336, 6.106790065765381, 5.84147834777832, 5.876407146453857, 5.886323928833008, 5.885315895080566, 5.717183589935303, 5.499468803405762, 5.789471626281738, 5.485929489135742, 5.646717548370361, 5.617430210113525, 5.461946487426758, 5.278681755065918, 5.398540019989014, 5.3966546058654785, 5.427292823791504, 5.125164985656738, 5.315823554992676, 5.1695051193237305, 5.168196201324463, 5.046899795532227, 5.136536598205566, 4.9465250968933105, 5.124736309051514, 5.001057147979736, 4.946844577789307, 4.8813323974609375, 4.973792552947998, 4.716057300567627, 4.854057312011719, 4.797407150268555, 4.754968166351318, 4.608908653259277, 4.658319473266602, 4.823877334594727, 4.516036033630371, 4.553101062774658, 4.634552001953125, 4.695209980010986, 4.4411773681640625, 4.462926864624023, 4.585132598876953, 4.278049468994141, 4.51286506652832, 4.390783786773682, 4.448351860046387, 4.23832368850708, 4.339087009429932, 4.221258640289307, 4.278144359588623, 4.263733863830566, 4.101661682128906, 4.09333610534668, 4.091743469238281, 4.074800491333008, 3.9709904193878174, 4.016910076141357, 3.9757378101348877, 4.046677589416504, 4.127617835998535, 4.083188533782959, 3.8752734661102295, 4.1120147705078125, 3.801222801208496, 4.056008338928223, 3.7599146366119385, 3.915677547454834, 3.9968841075897217, 3.735410690307617, 3.8027560710906982, 3.8728792667388916, 3.714325189590454, 3.558359384536743, 3.692356586456299, 3.8388187885284424, 3.7925868034362793, 3.6585636138916016, 3.6092045307159424, 3.6634368896484375, 3.785156726837158, 3.6777992248535156, 3.5046653747558594, 3.699002504348755, 3.5123674869537354, 3.385483503341675, 3.251378297805786, 3.4886515140533447, 3.5665194988250732, 3.424600839614868, 3.417278528213501, 3.344721794128418, 3.4053897857666016, 3.352029800415039, 3.3250954151153564, 3.4525296688079834, 3.3569302558898926, 3.30385160446167, 3.208390951156616, 3.413571834564209, 3.0559725761413574, 3.4808595180511475, 3.2171974182128906, 3.258422374725342, 3.1943154335021973, 3.208139181137085, 3.2313759326934814, 3.0776419639587402, 3.3017711639404297, 2.985042095184326, 3.052915573120117, 3.2345240116119385, 3.087980270385742, 2.989401340484619, 2.9899778366088867, 3.0928711891174316, 3.037074327468872, 3.093471050262451, 2.9873979091644287, 2.967562675476074, 3.07497239112854, 2.8777709007263184, 3.041975975036621, 2.8786628246307373, 3.0263831615448, 2.8906829357147217, 2.98421311378479, 2.829028606414795, 3.0871400833129883, 2.7584235668182373, 2.837735891342163, 2.9012436866760254, 2.876373291015625, 2.774639368057251, 2.8562440872192383, 2.834085464477539, 2.8667397499084473, 2.794440269470215, 2.68548846244812, 2.8956968784332275, 2.744386911392212, 2.703660726547241, 2.8152334690093994, 2.7293930053710938, 2.638558864593506, 2.8101162910461426, 2.678053140640259, 2.722405195236206, 2.8581275939941406, 2.5567634105682373, 2.724931478500366, 2.687875986099243, 2.536860466003418, 2.6717567443847656, 2.781277656555176, 2.581721544265747, 2.659526824951172, 2.6101014614105225, 2.5910377502441406, 2.600767135620117, 2.4045116901397705, 2.6061511039733887, 2.471036434173584, 2.708111047744751, 2.226694107055664, 2.4288177490234375, 2.568486213684082, 2.2743048667907715, 2.7270307540893555, 2.465514898300171, 2.5504183769226074, 2.537977457046509, 2.4587461948394775, 2.4931864738464355, 2.4830703735351562, 2.3180644512176514, 2.6558480262756348, 2.287017583847046, 2.4207370281219482, 2.469494342803955, 2.396742582321167, 2.3389413356781006, 2.2955939769744873, 2.1699771881103516, 2.2986226081848145, 2.2562501430511475, 2.3397250175476074, 2.277214527130127, 2.341085195541382, 2.284195899963379, 2.3305888175964355, 2.366025924682617, 2.264224052429199, 2.420454740524292, 2.0347323417663574, 2.1660165786743164, 2.2108278274536133, 2.2212746143341064, 2.156324863433838, 2.339846611022949, 2.2808234691619873, 2.119490146636963, 2.205129623413086, 2.218905210494995, 2.034128189086914, 2.2414796352386475, 2.347506284713745, 2.0296642780303955, 2.1280550956726074, 2.2675373554229736, 2.1602818965911865, 2.276360273361206, 2.0436153411865234, 2.2082555294036865, 2.2540977001190186, 2.0686821937561035, 1.9934792518615723, 1.9048855304718018, 2.119577407836914, 2.1593973636627197, 2.059792995452881, 1.9882137775421143, 1.9968842267990112, 2.001986265182495, 2.0487987995147705, 2.0859148502349854, 1.9152647256851196, 2.146162986755371, 2.0307037830352783, 2.043309450149536, 1.9944401979446411, 2.04280161857605, 2.0520553588867188, 2.1047451496124268, 1.7897002696990967, 2.00742244720459, 1.798164963722229, 1.9752354621887207, 2.040717840194702, 1.9779250621795654, 1.9320815801620483, 2.0195977687835693, 1.9584969282150269, 1.7878996133804321, 2.0502617359161377, 1.8806934356689453, 1.825829029083252, 1.9114899635314941, 1.8567829132080078, 1.9978045225143433, 1.8762989044189453, 1.850687026977539, 1.8569225072860718, 1.7902814149856567, 1.6568611860275269, 2.0123941898345947, 1.8552334308624268, 1.956356406211853, 1.7905313968658447, 1.7766093015670776, 1.719889521598816, 1.8204082250595093, 2.013089418411255, 1.673315167427063, 1.771265983581543, 1.753813624382019, 1.774843692779541, 1.7040536403656006, 1.729128360748291, 1.6789400577545166, 1.8820226192474365, 1.7805256843566895, 1.7849290370941162, 1.6316643953323364, 1.760225534439087, 1.6773571968078613, 1.830394983291626, 1.7666505575180054, 1.5784997940063477, 1.654798150062561, 1.8167070150375366, 1.6548125743865967, 1.608597755432129, 1.7116272449493408, 1.682951807975769, 1.866742730140686, 1.6533918380737305, 1.6921947002410889, 1.614504337310791, 1.7119274139404297, 1.5481640100479126, 1.5861668586730957, 1.6185851097106934, 1.7268656492233276, 1.6203012466430664, 1.7130929231643677, 1.5696275234222412, 1.5757979154586792, 1.5558278560638428, 1.596238136291504, 1.5753453969955444, 1.5957611799240112, 1.570317268371582, 1.5773671865463257, 1.5258642435073853, 1.642332911491394, 1.5519911050796509, 1.651056170463562, 1.491786003112793, 1.5651895999908447, 1.5224835872650146, 1.5393946170806885, 1.6247637271881104, 1.4863661527633667, 1.5010592937469482, 1.4554696083068848, 1.5824276208877563, 1.4453134536743164, 1.4137542247772217, 1.4554065465927124, 1.4906203746795654, 1.5465713739395142, 1.4799672365188599, 1.4565166234970093, 1.4863061904907227, 1.488028883934021, 1.476412296295166, 1.2583091259002686, 1.4162489175796509, 1.4399871826171875, 1.5458900928497314, 1.4200513362884521, 1.3745231628417969, 1.5063765048980713, 1.402152180671692, 1.4573800563812256, 1.3877731561660767, 1.430503487586975, 1.4709144830703735, 1.3872618675231934, 1.4052389860153198, 1.3061859607696533, 1.5237394571304321, 1.2911418676376343, 1.2843650579452515, 1.3893709182739258, 1.4181596040725708, 1.35260808467865, 1.3019529581069946, 1.374813437461853, 1.3370110988616943, 1.2486025094985962, 1.3106253147125244, 1.4323028326034546, 1.3708304166793823, 1.2620102167129517, 1.365799069404602, 1.2787764072418213, 1.3349850177764893, 1.4043173789978027, 1.2342557907104492, 1.3310964107513428, 1.321764588356018, 1.239922046661377, 1.364609718322754, 1.1522330045700073, 1.3420594930648804, 1.2587294578552246, 1.2030361890792847, 1.2905396223068237, 1.2960855960845947, 1.4019145965576172, 1.250753402709961, 1.3114478588104248, 1.27372145652771, 1.3529744148254395, 1.1030645370483398, 1.2388594150543213, 1.1322875022888184, 1.2824186086654663, 1.2014615535736084, 1.3321568965911865, 1.2869136333465576, 1.1728489398956299, 1.2362998723983765, 1.1628493070602417, 1.2349272966384888, 1.3126730918884277, 1.139974594116211, 1.248542070388794, 1.2042073011398315, 1.2692146301269531, 1.276734709739685, 1.2248954772949219, 1.1761209964752197, 1.1973901987075806, 1.1172921657562256, 1.1548444032669067, 1.0987141132354736, 1.0753508806228638, 1.1619449853897095, 1.2084951400756836, 1.1432116031646729, 1.1766258478164673, 1.1412839889526367, 1.0947901010513306, 1.2088096141815186, 1.1272494792938232, 1.357624888420105, 1.0354365110397339, 1.1791075468063354, 1.2010687589645386, 0.9878727197647095, 1.1399693489074707, 1.0109198093414307, 1.1065363883972168, 1.1547038555145264, 1.0486785173416138, 1.1454432010650635, 1.1319154500961304, 1.0017143487930298, 1.1060670614242554, 1.2097500562667847, 1.1197465658187866, 1.137200117111206, 1.0424368381500244, 1.035392165184021, 1.1370495557785034, 1.0724847316741943, 1.11644446849823, 0.9662343859672546, 1.1408123970031738]\n",
            "Mean Average Error - [21.186805725097656, 18.98128890991211, 16.085031509399414, 12.345793724060059, 8.99559211730957, 6.690163612365723, 5.3697967529296875, 4.534609794616699, 3.9848592281341553, 3.5911152362823486, 3.334242105484009, 3.1967623233795166, 3.0498039722442627, 2.947786808013916, 2.8225350379943848, 2.763909339904785, 2.6822774410247803, 2.600863218307495, 2.5457944869995117, 2.4698545932769775, 2.4598019123077393, 2.4162216186523438, 2.3538897037506104, 2.3037543296813965, 2.2803990840911865, 2.2705624103546143, 2.21273136138916, 2.1459851264953613, 2.2259316444396973, 2.138998508453369, 2.131605863571167, 2.1294362545013428, 2.111452341079712, 2.0945827960968018, 2.06486439704895, 2.042712450027466, 2.039440631866455, 2.0166566371917725, 2.0049054622650146, 2.034128427505493, 1.9742445945739746, 2.0030317306518555, 1.9400006532669067, 1.9823650121688843, 1.9324878454208374, 1.927807092666626, 1.901794195175171, 1.8743761777877808, 1.9093765020370483, 1.8708446025848389, 1.8636133670806885, 1.8713934421539307, 1.8599578142166138, 1.8343175649642944, 1.8349171876907349, 1.8243943452835083, 1.8065447807312012, 1.8405154943466187, 1.764604091644287, 1.7748442888259888, 1.7687875032424927, 1.7852146625518799, 1.7389535903930664, 1.7447559833526611, 1.7579947710037231, 1.7392584085464478, 1.737837314605713, 1.7317067384719849, 1.6940869092941284, 1.695257544517517, 1.681908369064331, 1.6855206489562988, 1.6998417377471924, 1.7073919773101807, 1.680419683456421, 1.6285784244537354, 1.687906265258789, 1.62431001663208, 1.6521852016448975, 1.6443562507629395, 1.6310347318649292, 1.6190543174743652, 1.6292449235916138, 1.6400766372680664, 1.638861894607544, 1.5926460027694702, 1.6474121809005737, 1.6211879253387451, 1.56656813621521, 1.5629535913467407, 1.6004270315170288, 1.5808029174804688, 1.597963809967041, 1.5641525983810425, 1.5464797019958496, 1.5334168672561646, 1.6090025901794434, 1.520254373550415, 1.5373321771621704, 1.5510714054107666, 1.4939368963241577, 1.4910446405410767, 1.5195796489715576, 1.5099961757659912, 1.4971041679382324, 1.4705456495285034, 1.4853310585021973, 1.5252636671066284, 1.4828468561172485, 1.4886748790740967, 1.5056672096252441, 1.4624557495117188, 1.4831955432891846, 1.4882935285568237, 1.472478985786438, 1.4415148496627808, 1.4550895690917969, 1.4378693103790283, 1.4418309926986694, 1.4359310865402222, 1.4469690322875977, 1.4250394105911255, 1.437049150466919, 1.4129472970962524, 1.4164847135543823, 1.4246718883514404, 1.3940367698669434, 1.4518920183181763, 1.3949555158615112, 1.412668228149414, 1.3969582319259644, 1.4247854948043823, 1.341604471206665, 1.4094699621200562, 1.353902816772461, 1.3617231845855713, 1.3794286251068115, 1.3449058532714844, 1.382534384727478, 1.353445291519165, 1.3444963693618774, 1.3521859645843506, 1.3193440437316895, 1.3660380840301514, 1.34724760055542, 1.3197236061096191, 1.3258670568466187, 1.3363988399505615, 1.3110016584396362, 1.3316658735275269, 1.3146765232086182, 1.3155657052993774, 1.3013780117034912, 1.278977632522583, 1.2695590257644653, 1.3068537712097168, 1.31011962890625, 1.3065940141677856, 1.3081237077713013, 1.2943891286849976, 1.2685728073120117, 1.3003339767456055, 1.2640331983566284, 1.30434250831604, 1.2411985397338867, 1.279221773147583, 1.2703588008880615, 1.3019795417785645, 1.2449843883514404, 1.2945122718811035, 1.2783607244491577, 1.249228596687317, 1.2472046613693237, 1.2408599853515625, 1.2385156154632568, 1.2303723096847534, 1.2792909145355225, 1.2102874517440796, 1.2014471292495728, 1.2571519613265991, 1.1947590112686157, 1.2049745321273804, 1.2176235914230347, 1.22431218624115, 1.2052146196365356, 1.2219023704528809, 1.2067164182662964, 1.2370109558105469, 1.2398161888122559, 1.1895416975021362, 1.2280783653259277, 1.1781729459762573, 1.1975290775299072, 1.1801202297210693, 1.2122188806533813, 1.1849340200424194, 1.2233190536499023, 1.1748318672180176, 1.1712496280670166, 1.1977314949035645, 1.1789592504501343, 1.1590280532836914, 1.1959974765777588, 1.16209077835083, 1.171933650970459, 1.1664317846298218, 1.1618711948394775, 1.1624330282211304, 1.1516664028167725, 1.1354926824569702, 1.1580764055252075, 1.1665781736373901, 1.1359362602233887, 1.1763951778411865, 1.1414308547973633, 1.1741485595703125, 1.156341314315796, 1.1123747825622559, 1.1605149507522583, 1.1660330295562744, 1.122711181640625, 1.1386574506759644, 1.164110541343689, 1.1108583211898804, 1.138589859008789, 1.1354806423187256, 1.140439748764038, 1.1294260025024414, 1.0893621444702148, 1.1417210102081299, 1.0663551092147827, 1.162137746810913, 1.0524693727493286, 1.106422781944275, 1.1260170936584473, 1.0649614334106445, 1.1670318841934204, 1.0947482585906982, 1.0972670316696167, 1.0887091159820557, 1.1264536380767822, 1.0901974439620972, 1.0971617698669434, 1.0547826290130615, 1.0982295274734497, 1.0683956146240234, 1.1086020469665527, 1.086204171180725, 1.0879372358322144, 1.0723485946655273, 1.0689316987991333, 1.053160309791565, 1.0547690391540527, 1.0482568740844727, 1.1015466451644897, 1.0516223907470703, 1.0616971254348755, 1.0355916023254395, 1.0644323825836182, 1.0300860404968262, 1.0468474626541138, 1.1071759462356567, 1.0404170751571655, 1.0084668397903442, 1.0696940422058105, 1.0482802391052246, 1.0411056280136108, 1.0669142007827759, 1.07172691822052, 1.0008465051651, 1.042657732963562, 1.0290286540985107, 1.0118300914764404, 1.060699224472046, 1.0572624206542969, 1.00840163230896, 1.0353314876556396, 1.059647798538208, 1.013885259628296, 1.0542378425598145, 1.0033077001571655, 1.0323420763015747, 1.0717527866363525, 1.00014328956604, 1.0176700353622437, 0.9860201478004456, 1.0183147192001343, 0.9957947134971619, 1.0322270393371582, 0.9729762077331543, 1.0139086246490479, 0.9977164268493652, 0.9969210624694824, 1.0034418106079102, 0.9663011431694031, 1.0338788032531738, 1.0083935260772705, 0.9947641491889954, 0.9768006801605225, 0.9801306128501892, 1.0165876150131226, 1.0071159601211548, 0.9396406412124634, 0.9932677745819092, 0.9590647220611572, 0.9925656914710999, 0.9720975756645203, 0.9535643458366394, 0.9801335334777832, 1.018316626548767, 0.9708213806152344, 0.9569677710533142, 0.9590460062026978, 0.9789901375770569, 0.9358218312263489, 0.9597718119621277, 0.9714502692222595, 0.9814613461494446, 0.9613291025161743, 0.9363468885421753, 0.9456403255462646, 0.9263407588005066, 0.9040282368659973, 0.993924081325531, 0.9582298994064331, 0.9941706657409668, 0.9167683124542236, 0.9376522898674011, 0.9211090207099915, 0.9531692266464233, 0.9690750241279602, 0.908150851726532, 0.9493063688278198, 0.9156673550605774, 0.8947225213050842, 0.896664559841156, 0.8998052477836609, 0.8883756399154663, 0.9433954358100891, 0.9316729307174683, 0.9473811388015747, 0.8959271907806396, 0.9346699118614197, 0.9075322151184082, 0.923332691192627, 0.9388084411621094, 0.9133263230323792, 0.9092984199523926, 0.9321271777153015, 0.9136872291564941, 0.8904716968536377, 0.9080315828323364, 0.9250482320785522, 0.9380457997322083, 0.8899232149124146, 0.8908047676086426, 0.8454725742340088, 0.9240944385528564, 0.8609769940376282, 0.8823854327201843, 0.9247032403945923, 0.9308478832244873, 0.8621590733528137, 0.9112757444381714, 0.848839282989502, 0.8827068209648132, 0.8568241000175476, 0.8901335000991821, 0.8887900114059448, 0.8893470168113708, 0.8558481335639954, 0.8796908259391785, 0.8733603954315186, 0.8745028376579285, 0.8872084617614746, 0.8796164393424988, 0.8655787110328674, 0.8405055403709412, 0.8636897802352905, 0.8468133211135864, 0.8977065086364746, 0.8622812032699585, 0.843585729598999, 0.8574061393737793, 0.8623571395874023, 0.8515855669975281, 0.8304396271705627, 0.8574966788291931, 0.8439488410949707, 0.8723655343055725, 0.8493608236312866, 0.8199314475059509, 0.8572325110435486, 0.8412220478057861, 0.8427484035491943, 0.7746453285217285, 0.8642087578773499, 0.8851766586303711, 0.8587236404418945, 0.8371546864509583, 0.8240336179733276, 0.837757408618927, 0.8127848505973816, 0.8530275225639343, 0.8333874344825745, 0.7955319285392761, 0.8333637714385986, 0.8071238994598389, 0.7933517098426819, 0.7822464108467102, 0.8522818088531494, 0.7745019197463989, 0.8091431856155396, 0.8132728934288025, 0.8155237436294556, 0.7993689775466919, 0.8220366835594177, 0.818259060382843, 0.7855862975120544, 0.7837564945220947, 0.8114242553710938, 0.840322732925415, 0.8152503967285156, 0.791405200958252, 0.7930507659912109, 0.7870392799377441, 0.8230312466621399, 0.822783887386322, 0.7767539024353027, 0.8104918003082275, 0.8061726689338684, 0.7587969899177551, 0.808894693851471, 0.7400618195533752, 0.8149640560150146, 0.7853047251701355, 0.7756275534629822, 0.8011784553527832, 0.795062780380249, 0.8169154524803162, 0.7815327644348145, 0.7966025471687317, 0.7756383419036865, 0.7852641940116882, 0.7106459140777588, 0.7347665429115295, 0.7393621802330017, 0.7940829396247864, 0.7515571713447571, 0.8064390420913696, 0.8040295839309692, 0.7567352652549744, 0.7570351362228394, 0.7685438394546509, 0.799980103969574, 0.7823934555053711, 0.728166937828064, 0.7975631356239319, 0.7453150749206543, 0.7678253650665283, 0.7971088886260986, 0.7544445395469666, 0.7370684742927551, 0.7689397931098938, 0.7293015122413635, 0.766005277633667, 0.7331666946411133, 0.7244446277618408, 0.7486886382102966, 0.7464526295661926, 0.7263051867485046, 0.775313138961792, 0.7351828217506409, 0.7387452125549316, 0.7691543102264404, 0.7375584244728088, 0.8100171685218811, 0.6982395052909851, 0.7568444609642029, 0.759628415107727, 0.6810287833213806, 0.755444347858429, 0.708498477935791, 0.7462068796157837, 0.7332625985145569, 0.7252935767173767, 0.7528930902481079, 0.7534562945365906, 0.7005348205566406, 0.7508292198181152, 0.7697426080703735, 0.7115961909294128, 0.7351027727127075, 0.7087375521659851, 0.6893243193626404, 0.7360919713973999, 0.7309316992759705, 0.7148120999336243, 0.6797595024108887, 0.7762506604194641]\n"
          ]
        },
        {
          "output_type": "display_data",
          "data": {
            "text/plain": [
              "<Figure size 640x480 with 1 Axes>"
            ],
            "image/png": "[encoded data removed]"
          },
          "metadata": {}
        }
      ]
    },
    {
      "cell_type": "code",
      "execution_count": null,
      "metadata": {
        "colab": {
          "base_uri": "https://localhost:8080/"
        },
        "id": "3hZCLbhbxh6n",
        "outputId": "a9add1eb-e8a1-4ddf-9924-b245f04c7e85"
      },
      "outputs": [
        {
          "output_type": "execute_result",
          "data": {
            "text/plain": [
              "2.52152419090271"
            ]
          },
          "metadata": {},
          "execution_count": 399
        }
      ],
      "source": [
        "test_mae_score"
      ]
    },
    {
      "cell_type": "markdown",
      "metadata": {
        "id": "DowlbY9Sxh6n"
      },
      "source": [
        "### **Generating predictions on new data**"
      ]
    },
    {
      "cell_type": "code",
      "execution_count": null,
      "metadata": {
        "colab": {
          "base_uri": "https://localhost:8080/"
        },
        "id": "qSVLepPHxh6n",
        "outputId": "a439bca9-a982-4d00-fed3-021df0911abd"
      },
      "outputs": [
        {
          "output_type": "stream",
          "name": "stdout",
          "text": [
            "4/4 [==============================] - 0s 3ms/step\n"
          ]
        },
        {
          "output_type": "execute_result",
          "data": {
            "text/plain": [
              "array([8.331491], dtype=float32)"
            ]
          },
          "metadata": {},
          "execution_count": 400
        }
      ],
      "source": [
        "predictions = model3.predict(test_data)\n",
        "predictions[0]"
      ]
    },
    {
      "cell_type": "markdown",
      "source": [
        "## **Answering couple of questions ragrding our CLASSIFIER**"
      ],
      "metadata": {
        "id": "3NNH0R5hw_fc"
      }
    },
    {
      "cell_type": "markdown",
      "metadata": {
        "id": "ANjNk0UN6YsP"
      },
      "source": [
        "**A Set of questions**\n",
        "\n",
        " &emsp;**1)** What type of preprocessing was applied to the raw input data? Why was it necessary to do so?\n",
        "\n",
        " &emsp;**2)** Why is this problem a case of regression (rather than classification)?\n",
        "\n",
        " &emsp;**3)** Does your model suffer from overfitting? If so, what would you suggest doing about it?\n",
        "\n",
        " &emsp;**3.2.1** Write code to try different combinations of:\n",
        "- K for K-fold validation\n",
        "- number of epochs\n",
        "- number of units per hidden layer\n",
        "- number of hidden layers\n",
        "\n",
        "&emsp;Please refrain from using better architectures and \"advanced\" techniques to curb overfitting (e.g., dropout, batch normalization, weight regularization, etc.)"
      ]
    },
    {
      "cell_type": "markdown",
      "metadata": {
        "id": "Z9_hiQqD7QPj"
      },
      "source": [
        " **1)**\n",
        "\n",
        "   >What type of preprocessing was applied to the raw input data? Why was\n",
        "it necessary to do so?\n",
        "\n",
        "a) Firstly, k-fold is somewhat similar to the train-test split process, where the splits will take place repeatedly, which is done to the datasets.\n",
        "\n",
        "b) A \"fold\" is a \"**subset**\" of our dataset. Each fold contains multiple samples or data points.\n",
        "\n",
        "c) The whole dataset is divided into k no of samples. This k is a random number. Also, the size of each \"fold\" is predefined of sets.\n",
        "  For Example k = 5 or 10.\n",
        "\n",
        "d) A datset x will be divided by 5 or 10 parts.\n",
        "\n",
        "e) Now, Let's say size of datset  = x\n",
        "(x/5) or (x/10) will be the size of each fold/subset/fold.\n",
        "\n",
        "f) Each of these subsets (folds) is split into training and test data randomly, but the key point is that within each iteration of k-fold cross-validation, one fold is used as the validation set (test data), and the remaining k-1 folds are used for training.\n",
        "\n",
        "  \"**For example**\":\n",
        "\n",
        "  let's say we have k=5 for 5-fold cross-validation. The dataset is divided into 5 equally-sized folds: fold 1, fold 2, fold 3, fold 4, and fold 5. In the first iteration, fold 1 is used as the validation set, and folds 2, 3, 4, and 5 are combined to form the training set. The model is then trained on this training set and evaluated on fold 1.\n",
        "\n",
        "  In the second iteration, fold 2 becomes the validation set, and the remaining folds (1, 3, 4, and 5) are used for training. The model is trained on these folds and evaluated on fold 2.\n",
        "\n",
        "  This process continues for the remaining iterations, with each fold serving as the validation set once, and the remaining folds used for training. The performance of the model is evaluated on each validation set, and the results are typically averaged across all iterations to get an overall estimate of the model's performance."
      ]
    },
    {
      "cell_type": "markdown",
      "metadata": {
        "id": "qZtaACWU7QZ9"
      },
      "source": [
        " **2)**\n",
        "\n",
        "   >Why is this problem a case of regression (rather than classification)?\n",
        "\n",
        "  Because, if we look at the dataset, we are working with, we are dealing with a series of \"**range of value, wich are in an unsorted order**\". When we say \"unsorted order\", that means, as we progress throught the values, uptill certain sequence, the values might be \"**Ascending**\". Then right after that, the value will start to \"**Descend**\". Then again after thi point, there might be a mix of \"**Ascending and Descending**\". In this case, we can clearly see the \"**FLUCTUATIONS**\" of the values. It will \"**NOT**\" seem to be in a \"**SEQUENTIAL**\" order. This behavior of \"Fluctuations\" in data, is called \"**REGRESSION DATA**\". So, the house pries follow the same pattern. As days go by, the price of the houses will always keep going up and then suddenly down, and will continue this process. So, there are more than \"**TWO CASES**\" involved. The two cases as binary cases: \"**0 and 1, YES / NO**\" etc... So the two cases case is called \"**CLASSIFICATION**\". The example is what we have seen in the \"**SENTIMENT ANALYSIS**\" concept. Either \"**POSITIVE**\" or \"**NEGATIVE**\". Since we see the \"**TREND**\", but not \"**DISCRETE VALUES**\", We call probelm like these as \"**REGRESSION**\"."
      ]
    },
    {
      "cell_type": "markdown",
      "metadata": {
        "id": "u4gWky977QjV"
      },
      "source": [
        " **3)**\n",
        "\n",
        "   >Does your model suffer from overfitting? If so, what would you suggest doing about it?\n",
        "\n",
        "As we can see from the above \"**mae vs loss plot**\", The result of the lines of both the loss and mae, seems to be inversly prroportion. As loss is reducing, the mae seems to be increasing. Basically, the plot is an \"L\" shaped plot. Towards the end, mae, which is on the x-axis overlapped as the loss which is on the y-axis is decreasing.\n",
        "\n",
        "From origin the y-axis has 0 to 500, and the x-axis has 0-500.\n",
        "\n",
        "This is a clear picture of \"**over-fitting**\". That mean the \"**model seem to \"MEMORIZE\" the data**\". This happens due to the following cases:\n",
        "\n",
        "  a) Lack of the required, and crucial data\n",
        "\n",
        "  b)  There might be dominace in data in the sets. Where the data isn inbalenced, and lot of repeating values are there. No equal proportion of split of the data might be there.\n",
        "\n",
        "The above two are potential causes for the over-fitting to occur.\n",
        "\n",
        "To prevent this to happen,\n",
        "\n",
        "  a) We need to have equal set of values sparsed between the values\n",
        "\n",
        "  b) There should not be much \"**MISSING VALUES**\".\n",
        "\n",
        "  c) We should make sure that we have an updated version of the dataset."
      ]
    },
    {
      "cell_type": "markdown",
      "metadata": {
        "id": "utWITDjJ7QsS"
      },
      "source": [
        " **4**\n",
        "\n",
        "   >Is mean absolute error (MAE) a good metric of success in this case? Why\n",
        "(not)?\n",
        "\n",
        " We can an **Increasing trend** of the **validation MAE**: If the validation MAE starts to increase as the epochs progress, it could indicate that the model is overfitting the training data. Overfitting occurs when the model learns the training data too well and fails to generalize to new, unseen data. In this case, the MAE may not be a good metric as it fails to capture the increased errors on unseen data."
      ]
    },
    {
      "cell_type": "markdown",
      "metadata": {
        "id": "cNxMzaMt2kp7"
      },
      "source": [
        "## **Snippets which can be a some of the potential STRUCTURES for our classifier**:\n",
        "\n",
        "Write code to try different combinations of:\n",
        "- K for K-fold validation\n",
        "- number of epochs\n",
        "- number of units per hidden layer\n",
        "- number of hidden layers"
      ]
    },
    {
      "cell_type": "markdown",
      "metadata": {
        "id": "8SoeBbpo3brk"
      },
      "source": [
        "## **CONCLUSIONS**"
      ]
    },
    {
      "cell_type": "markdown",
      "metadata": {
        "id": "YKuaczBa3_5O"
      },
      "source": [
        "#####**Lessons learned**\n",
        "\n",
        "Learnt about a new \"High level\" process similar to the train-test split method, which is the \"**k-fold**\" method. I loved the way it works. Will have to learn more about it."
      ]
    }
  ],
  "metadata": {
    "colab": {
      "provenance": [],
      "toc_visible": true
    },
    "kernelspec": {
      "display_name": "Python 3",
      "language": "python",
      "name": "python3"
    },
    "language_info": {
      "codemirror_mode": {
        "name": "ipython",
        "version": 3
      },
      "file_extension": ".py",
      "mimetype": "text/x-python",
      "name": "python",
      "nbconvert_exporter": "python",
      "pygments_lexer": "ipython3",
      "version": "3.6.5"
    }
  },
  "nbformat": 4,
  "nbformat_minor": 0
}